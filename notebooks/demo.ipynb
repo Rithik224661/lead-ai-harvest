{
 "cells": [
  {
   "cell_type": "code",
   "execution_count": null,
   "id": "4072ac07-77d6-490d-a9d2-c3ee24995193",
   "metadata": {},
   "outputs": [],
   "source": [
    "# 📊 Lead AI Harvest - Jupyter Notebook Demo\n",
    "\n",
    "This notebook demonstrates how to validate and prioritize scraped business leads using OpenAI's API. It shows how lead data is loaded, processed, scored with AI, and filtered for quality leads.\n"
   ]
  },
  {
   "cell_type": "code",
   "execution_count": null,
   "id": "29251ad1-0204-4560-8304-5a51943fb255",
   "metadata": {},
   "outputs": [],
   "source": [
    "import pandas as pd\n",
    "\n",
    "# Load sample lead CSV\n",
    "leads_df = pd.read_csv(\"../data/leads_sample1.csv\")  \n",
    "leads_df.head()\n"
   ]
  },
  {
   "cell_type": "code",
   "execution_count": null,
   "id": "e3002ffb-6af1-4d04-a731-44a2c8ff3d3d",
   "metadata": {},
   "outputs": [],
   "source": [
    "import openai\n",
    "import os\n",
    "\n",
    "# Load your OpenAI API key (Set this securely in environment or .env file)\n",
    "openai.api_key = os.getenv(\"OPENAI_API_KEY\") or \"sk-...\"  # Replace with your actual key temporarily\n",
    "\n",
    "def get_lead_score(lead):\n",
    "    prompt = (\n",
    "        f\"Evaluate the following business lead:\\n\\n\"\n",
    "        f\"Company: {lead['company_name']}\\n\"\n",
    "        f\"Industry: {lead['industry']}\\n\"\n",
    "        f\"Description: {lead['description']}\\n\"\n",
    "        f\"LinkedIn: {lead['linkedin_url']}\\n\\n\"\n",
    "        f\"Give a lead priority score between 1 (low) and 10 (high).\"\n",
    "    )\n",
    "    try:\n",
    "        response = openai.ChatCompletion.create(\n",
    "            model=\"gpt-3.5-turbo\", \n",
    "            messages=[{\"role\": \"user\", \"content\": prompt}],\n",
    "            temperature=0.7\n",
    "        )\n",
    "        score = int(''.join(filter(str.isdigit, response['choices'][0]['message']['content'])))\n",
    "        return score\n",
    "    except Exception as e:\n",
    "        print(f\"Error: {e}\")\n",
    "        return None\n"
   ]
  },
  {
   "cell_type": "code",
   "execution_count": null,
   "id": "4609f207-e93b-45b5-abaf-7e6dae422618",
   "metadata": {},
   "outputs": [],
   "source": [
    "sample_leads = leads_df.head(5).copy()  # Only 5 for demo\n",
    "sample_leads[\"priority_score\"] = sample_leads.apply(get_lead_score, axis=1)\n",
    "sample_leads\n"
   ]
  },
  {
   "cell_type": "code",
   "execution_count": null,
   "id": "eb42ed9c-f2cd-4480-92bd-214a53b87742",
   "metadata": {},
   "outputs": [],
   "source": [
    "# Filter high priority leads\n",
    "top_leads = sample_leads[sample_leads[\"priority_score\"] >= 7]\n",
    "top_leads\n"
   ]
  },
  {
   "cell_type": "code",
   "execution_count": null,
   "id": "a906fada-817c-4eb5-b3a8-bfd4da59af93",
   "metadata": {},
   "outputs": [],
   "source": [
    "top_leads.to_csv(\"../data/top_validated_leads.csv\", index=False)\n"
   ]
  }
 ],
 "metadata": {
  "kernelspec": {
   "display_name": "Python 3 (ipykernel)",
   "language": "python",
   "name": "python3"
  },
  "language_info": {
   "codemirror_mode": {
    "name": "ipython",
    "version": 3
   },
   "file_extension": ".py",
   "mimetype": "text/x-python",
   "name": "python",
   "nbconvert_exporter": "python",
   "pygments_lexer": "ipython3",
   "version": "3.11.7"
  }
 },
 "nbformat": 4,
 "nbformat_minor": 5
}
